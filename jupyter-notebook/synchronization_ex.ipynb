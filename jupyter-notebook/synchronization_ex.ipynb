{
 "cells": [
  {
   "cell_type": "markdown",
   "source": [
    "# Synchronization\n",
    "This file illustrates how to use the cdcps tool to analyze networked systems with respect to synchronization."
   ],
   "metadata": {
    "collapsed": false,
    "pycharm": {
     "name": "#%% md\n"
    }
   }
  },
  {
   "cell_type": "code",
   "execution_count": null,
   "outputs": [],
   "source": [
    "# libraries for plotting things -----------------------\n",
    "from bokeh.plotting import figure, output_file, show\n",
    "from bokeh.io import output_notebook\n",
    "\n",
    "import numpy as np\n",
    "import cdcps as cps"
   ],
   "metadata": {
    "collapsed": false,
    "pycharm": {
     "name": "#%%\n"
    }
   }
  },
  {
   "cell_type": "markdown",
   "source": [
    "#### (1) Analyzing synchronization for multi-agent systems\n",
    "First, we consider three identical systems that are connected in a ring structure. With get_networked_system these subsystems are connected. Hereby some properties, like synchronized or the existence of an intersection system, are analyzed."
   ],
   "metadata": {
    "collapsed": false,
    "pycharm": {
     "name": "#%% md\n"
    }
   }
  },
  {
   "cell_type": "code",
   "execution_count": null,
   "outputs": [],
   "source": [
    "# define dynamical system --------------------------------\n",
    "sys1 = cps.System()\n",
    "sys1.state_matrix = np.matrix([[-1, 2], [0, -0.5]])\n",
    "sys1.input_matrix = np.matrix([[0], [1]])\n",
    "sys1.output_matrix = np.matrix([[1, 0.0]])\n",
    "# generate multiple dynamical agents ---------------------\n",
    "sys_list = sys1.get_system_copy(2, embedingGenerator=True)\n",
    "# define network -----------------------------------------\n",
    "A = np.array([[0.0, 0.0, 0.1],\n",
    "              [1.0, 0.0, 0.0],\n",
    "              [0.0, 1.0, 0.0]\n",
    "              ])\n",
    "\n",
    "NET_ring = cps.Graph.get_graph_from_adjacency(A)\n",
    "# define networked system --------------------------------\n",
    "NET_SYS_ring = cps.MultiAgent.get_networked_system(graphs=[NET_ring], systems=sys_list)\n",
    "\n",
    "NET_SYS_ring.initial_state = cps.basic.vercat(np.array([-2.2, -1.5]),\n",
    "                                              np.array([1.0, 2.0]),\n",
    "                                              np.array([0.0, 1.0]))\n",
    "\n",
    "NET_SYS_ring.control_val = 0.1\n",
    "print(\"multi-agent system is synchronized ___: \" + str(NET_SYS_ring.synchronized()))\n",
    "print(\"single agent is observable ___________: \" + str(sys1.is_observable()))\n",
    "print(\"agents are identical _________________: \" + str(NET_SYS_ring.has_identical_agents()))\n",
    "print(\"agents have intersection _____________: \" + str(NET_SYS_ring.has_intersection()))"
   ],
   "metadata": {
    "collapsed": false,
    "pycharm": {
     "name": "#%%\n"
    }
   }
  },
  {
   "cell_type": "markdown",
   "source": [
    "Using plot_synchronize, the input, states and the output of the different agents as well as the network output are illustrated."
   ],
   "metadata": {
    "collapsed": false,
    "pycharm": {
     "name": "#%% md\n"
    }
   }
  },
  {
   "cell_type": "code",
   "execution_count": null,
   "outputs": [],
   "source": [
    "output_notebook()\n",
    "NET_SYS_ring.t_final = 30\n",
    "NET_SYS_ring.plot_synchronize()"
   ],
   "metadata": {
    "collapsed": false,
    "pycharm": {
     "name": "#%%\n"
    }
   }
  },
  {
   "cell_type": "markdown",
   "source": [
    "In the next example, we use a P controller for the agents. Furthermore, the system is not synchronized."
   ],
   "metadata": {
    "collapsed": false,
    "pycharm": {
     "name": "#%% md\n"
    }
   }
  },
  {
   "cell_type": "code",
   "execution_count": null,
   "outputs": [],
   "source": [
    "# define dynamical system --------------------------------\n",
    "sys1 = cps.System()\n",
    "sys1.state_matrix = np.matrix([[0, 3], [-3, 0]])\n",
    "sys1.input_matrix = np.matrix([[1], [1]])\n",
    "sys1.output_matrix = np.matrix([[1, 10.0]])\n",
    "# generate multiple dynamical agents ---------------------\n",
    "sys_list = sys1.get_system_copy(1, embedingGenerator=True)\n",
    "# define network -----------------------------------------\n",
    "L = np.array([[1, -1],\n",
    "              [-1, 1]])\n",
    "\n",
    "NET = cps.Graph.get_graph_from_Laplacian(L)\n",
    "# define networked system --------------------------------\n",
    "NET_SYS = cps.MultiAgent.get_networked_system(graphs=[NET],systems=sys_list)\n",
    "\n",
    "NET_SYS.initial_state = cps.basic.vercat(np.array([1, -1]), np.array([1, 1]))"
   ],
   "metadata": {
    "collapsed": false,
    "pycharm": {
     "name": "#%%\n"
    }
   }
  },
  {
   "cell_type": "code",
   "execution_count": null,
   "outputs": [],
   "source": [
    "NET_SYS.control_val = 0.1\n",
    "print(\"multi-agent system is synchronized ___: \" + str(NET_SYS.synchronized()))\n",
    "print(\"single agent is observable ___________: \" + str(sys1.is_observable()))\n",
    "print(\"agents are identical _________________: \" + str(NET_SYS_ring.has_identical_agents()))\n",
    "print(\"agents have intersection _____________: \" + str(NET_SYS_ring.has_intersection()))"
   ],
   "metadata": {
    "collapsed": false,
    "pycharm": {
     "name": "#%%\n"
    }
   }
  },
  {
   "cell_type": "code",
   "execution_count": null,
   "outputs": [],
   "source": [
    "output_notebook()\n",
    "NET_SYS.t_final = 60\n",
    "NET_SYS.plot_synchronize()"
   ],
   "metadata": {
    "collapsed": false,
    "pycharm": {
     "name": "#%%\n"
    }
   }
  },
  {
   "cell_type": "markdown",
   "source": [
    "Finally, we look at examples of connecting two agents with different dynamical systems. Here we also consider a network for which there is no intersection model."
   ],
   "metadata": {
    "collapsed": false,
    "pycharm": {
     "name": "#%% md\n"
    }
   }
  },
  {
   "cell_type": "code",
   "execution_count": null,
   "outputs": [],
   "source": [
    "# define dynamical system --------------------------------\n",
    "sys1 = cps.System()\n",
    "omega = 1\n",
    "sys1.state_matrix = np.matrix([[0, omega, 0], [-omega, 0, 1], [0, 0, 0]])\n",
    "sys1.input_matrix = np.matrix([[1], [0], [0]])\n",
    "sys1.output_matrix = np.matrix([[1, 0, 0]])\n",
    "\n",
    "sys2 = cps.System()\n",
    "sys2.state_matrix = np.matrix([[0]])\n",
    "sys2.input_matrix = np.matrix([[1]])\n",
    "sys2.output_matrix = np.matrix([[1]])\n",
    "\n",
    "sys3 = cps.System()\n",
    "sys3.state_matrix = np.matrix([[0, omega], [-omega, 0]])\n",
    "sys3.input_matrix = np.matrix([[0], [1]])\n",
    "sys3.output_matrix = np.matrix([[1, 0]])\n",
    "\n",
    "# generate multiple dynamical agents ---------------------\n",
    "sys_list13 = [sys1, sys3]\n",
    "sys_list12 = [sys1, sys2]\n",
    "sys_list23 = [sys2, sys3]\n",
    "    # define network -----------------------------------------\n",
    "A = np.array([[0, 1],\n",
    "              [1, 0]])\n",
    "\n",
    "NET = cps.Graph.get_graph_from_adjacency(A)\n",
    "# define networked system --------------------------------\n",
    "NET_SYS12 = cps.MultiAgent.get_networked_system(graphs=[NET], systems=sys_list12)\n",
    "NET_SYS13 = cps.MultiAgent.get_networked_system(graphs=[NET], systems=sys_list13)\n",
    "NET_SYS23 = cps.MultiAgent.get_networked_system(graphs=[NET], systems=sys_list23)\n",
    "\n",
    "NET_SYS12.initial_state = cps.basic.vercat(np.array([10, 1, 2]), np.array([3]))\n",
    "NET_SYS13.initial_state = cps.basic.vercat(np.array([10, 1, 0]), np.array([-10, 0]))\n",
    "NET_SYS23.initial_state = cps.basic.vercat(np.array([1]), np.array([-10, 0]))"
   ],
   "metadata": {
    "collapsed": false,
    "pycharm": {
     "name": "#%%\n"
    }
   }
  },
  {
   "cell_type": "code",
   "execution_count": null,
   "outputs": [],
   "source": [
    "print(\"Network of Agents 1 and 2\")\n",
    "print(\"agents are identical ________________: \" + str(NET_SYS12.has_identical_agents()))\n",
    "print(\"agents have intersection ____________: \" + str(NET_SYS12.has_intersection()))\n",
    "print(\"Network of Agents 1 and 3\")\n",
    "print(\"agents are identical ________________: \" + str(NET_SYS13.has_identical_agents()))\n",
    "print(\"agents have intersection ____________: \" + str(NET_SYS13.has_intersection()))\n",
    "print(\"Network of Agents 2 and 3\")\n",
    "print(\"agents are identical ________________: \" + str(NET_SYS23.has_identical_agents()))\n",
    "print(\"agents have intersection ____________: \" + str(NET_SYS23.has_intersection()))"
   ],
   "metadata": {
    "collapsed": false,
    "pycharm": {
     "name": "#%%\n"
    }
   }
  },
  {
   "cell_type": "code",
   "execution_count": null,
   "outputs": [],
   "source": [
    "output_notebook()\n",
    "NET_SYS12.t_final = 50\n",
    "NET_SYS12.plot_synchronize()"
   ],
   "metadata": {
    "collapsed": false,
    "pycharm": {
     "name": "#%%\n"
    }
   }
  },
  {
   "cell_type": "code",
   "execution_count": null,
   "outputs": [],
   "source": [
    "output_notebook()\n",
    "NET_SYS13.t_final = 30\n",
    "NET_SYS13.plot_synchronize()"
   ],
   "metadata": {
    "collapsed": false,
    "pycharm": {
     "name": "#%%\n"
    }
   }
  },
  {
   "cell_type": "code",
   "execution_count": null,
   "outputs": [],
   "source": [
    "output_notebook()\n",
    "NET_SYS23.t_final = 30\n",
    "NET_SYS23.plot_synchronize()"
   ],
   "metadata": {
    "collapsed": false,
    "pycharm": {
     "name": "#%%\n"
    }
   }
  }
 ],
 "metadata": {
  "kernelspec": {
   "display_name": "Python 3",
   "language": "python",
   "name": "python3"
  },
  "language_info": {
   "codemirror_mode": {
    "name": "ipython",
    "version": 2
   },
   "file_extension": ".py",
   "mimetype": "text/x-python",
   "name": "python",
   "nbconvert_exporter": "python",
   "pygments_lexer": "ipython2",
   "version": "2.7.6"
  }
 },
 "nbformat": 4,
 "nbformat_minor": 0
}