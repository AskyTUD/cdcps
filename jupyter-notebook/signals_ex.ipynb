{
 "cells": [
  {
   "cell_type": "markdown",
   "source": [
    "# Signals\n",
    "This file illustrates how to define different types of functions with cdcps."
   ],
   "metadata": {
    "collapsed": false,
    "pycharm": {
     "name": "#%% md\n"
    }
   }
  },
  {
   "cell_type": "code",
   "execution_count": null,
   "outputs": [],
   "source": [
    "import numpy as np\n",
    "import cdcps as cps"
   ],
   "metadata": {
    "collapsed": false,
    "pycharm": {
     "name": "#%%\n"
    }
   }
  },
  {
   "cell_type": "markdown",
   "source": [
    "#### (1) Definition of general signals"
   ],
   "metadata": {
    "collapsed": false,
    "pycharm": {
     "name": "#%% md\n"
    }
   }
  },
  {
   "cell_type": "code",
   "execution_count": null,
   "outputs": [],
   "source": [
    "xgrid = np.array([0, 1, 3])\n",
    "ygrid = np.array([0, 1, 0])\n",
    "sg1 = cps.Signals.get_PC_Function(xgrid, ygrid, 0)\n",
    "print(sg1)\n",
    "print('time   | ', '{:.0f} {:.0f} {:.0f} {:.0f} {:.0f}'.format(0, 1, 2, 3, 4))\n",
    "print('values | ', sg1(0), sg1(1), sg1(2), sg1(3), sg1(4))"
   ],
   "metadata": {
    "collapsed": false,
    "pycharm": {
     "name": "#%%\n"
    }
   }
  },
  {
   "cell_type": "code",
   "execution_count": null,
   "outputs": [],
   "source": [
    "sg2 = cps.Signals.get_EDS_Function({'u0':1, 'omega':1})\n",
    "print(sg2)\n",
    "print('time   | ', '{:.0f} {:.6f} {:.6f} {:.6f} {:.6f}'.format(0, 1, 2, 3, 4))\n",
    "print('values | ', sg2(0), sg2(1), sg2(2), sg2(3), sg2(4))"
   ],
   "metadata": {
    "collapsed": false,
    "pycharm": {
     "name": "#%%\n"
    }
   }
  },
  {
   "cell_type": "markdown",
   "source": [
    "#### (2) Convolution of two signals\n",
    "First, we consider two rectangular signals. In the first example, both signals have the same amplitude. In the second example, the case of different heights is shown. The parameters for the definition of the convolution refer to the integration. It is obvious that we cannot integrate from minus to plus infinity. Therefore, an upper and a lower bound as well as a step size must be set."
   ],
   "metadata": {
    "collapsed": false,
    "pycharm": {
     "name": "#%% md\n"
    }
   }
  },
  {
   "cell_type": "code",
   "execution_count": null,
   "outputs": [],
   "source": [
    "# weighting function ---------------------------------------\n",
    "xgrid = np.array([-0.5, 0.5])\n",
    "ygrid = np.array([1, 0])\n",
    "G_sig = cps.Signals.get_PC_Function(xgrid, ygrid, 0)\n",
    "# input function -------------------------------------------\n",
    "xgrid = np.array([-0.5, 0.5])\n",
    "ygrid = np.array([1, 0])\n",
    "U_sig = cps.Signals.get_PC_Function(xgrid, ygrid, 0)\n",
    "# convolution of the input and the weighting function ------\n",
    "Y_sig = cps.Signals.get_convolution(G_sig.signal, U_sig.signal, t_start=-5, t_final=5)\n",
    "\n",
    "t_span = np.linspace(-2, 2, 100)\n",
    "Y_sig.show_convolution(t_span)"
   ],
   "metadata": {
    "collapsed": false,
    "pycharm": {
     "name": "#%%\n"
    }
   }
  },
  {
   "cell_type": "code",
   "execution_count": null,
   "outputs": [],
   "source": [
    "# weighting function ---------------------------------------\n",
    "xgrid = np.array([-0.5, 0.5])\n",
    "ygrid = np.array([1, 0])\n",
    "G_sig = cps.Signals.get_PC_Function(xgrid, ygrid, 0)\n",
    "# input function -------------------------------------------\n",
    "xgrid = np.array([-0.25, 0.25])\n",
    "ygrid = np.array([0.5, 0])\n",
    "U_sig = cps.Signals.get_PC_Function(xgrid, ygrid, 0)\n",
    "# convolution of the input and the weighting function ------\n",
    "Y_sig = cps.Signals.get_convolution(G_sig.signal, U_sig.signal, t_start=-5, t_final=5, step=0.05)\n",
    "\n",
    "t_span = np.linspace(-2, 2, 100)\n",
    "Y_sig.show_convolution(t_span)"
   ],
   "metadata": {
    "collapsed": false,
    "pycharm": {
     "name": "#%%\n"
    }
   }
  },
  {
   "cell_type": "markdown",
   "source": [
    "Next, we consider the convolution of a rectangular and a triangular signal."
   ],
   "metadata": {
    "collapsed": false,
    "pycharm": {
     "name": "#%% md\n"
    }
   }
  },
  {
   "cell_type": "code",
   "execution_count": null,
   "outputs": [],
   "source": [
    "# weighting function ---------------------------------------\n",
    "xgrid = np.array([-0.5, 0.5])\n",
    "ygrid = np.array([1, 0])\n",
    "G_sig = cps.Signals.get_PC_Function(xgrid, ygrid, 0)\n",
    "# input function -------------------------------------------\n",
    "xgrid = np.array([[-0.25, -0.25],\n",
    "                  [-0.25, 0.25]])\n",
    "ygrid = np.array([[0, 1], [1, 0]])\n",
    "U_sig = cps.Signals.get_PL_Function(xgrid, ygrid, 0)\n",
    "# convolution of the input and the weighting function ------\n",
    "Y_sig = cps.Signals.get_convolution(G_sig.signal, U_sig.signal, t_start=-5, t_final=5)\n",
    "\n",
    "t_span = np.linspace(-3, 3, 100)\n",
    "Y_sig.show_convolution(t_span)"
   ],
   "metadata": {
    "collapsed": false,
    "pycharm": {
     "name": "#%%\n"
    }
   }
  },
  {
   "cell_type": "markdown",
   "source": [
    "The last example illustrates the case of an LTI system governed by a rectangular signal."
   ],
   "metadata": {
    "collapsed": false,
    "pycharm": {
     "name": "#%% md\n"
    }
   }
  },
  {
   "cell_type": "code",
   "execution_count": null,
   "outputs": [],
   "source": [
    "sys3 = cps.System()\n",
    "sys3.state_matrix = np.array([[-1, 2], [0, -0.5]])\n",
    "sys3.input_matrix = np.array([[0], [1]])\n",
    "sys3.output_matrix = np.array([[1, 0.0]])\n",
    "sys3.get_weight_function()\n",
    "# input function -------------------------------------------\n",
    "xgrid = np.array([0, 1, 18])\n",
    "ygrid = np.array([0, 1, 0])\n",
    "U_sig = cps.Signals.get_PC_Function(xgrid, ygrid,0)\n",
    "# convolution of the input and the weighting function ------\n",
    "Y_sig = cps.Signals.get_convolution(sys3.impulse_response, U_sig.signal, t_start=0, t_final=20, step=0.1)\n",
    "\n",
    "t_span = np.linspace(-3, 30, 200)\n",
    "Y_sig.show_convolution(t_span)"
   ],
   "metadata": {
    "collapsed": false,
    "pycharm": {
     "name": "#%%\n"
    }
   }
  }
 ],
 "metadata": {
  "kernelspec": {
   "display_name": "Python 3",
   "language": "python",
   "name": "python3"
  },
  "language_info": {
   "codemirror_mode": {
    "name": "ipython",
    "version": 2
   },
   "file_extension": ".py",
   "mimetype": "text/x-python",
   "name": "python",
   "nbconvert_exporter": "python",
   "pygments_lexer": "ipython2",
   "version": "2.7.6"
  }
 },
 "nbformat": 4,
 "nbformat_minor": 0
}