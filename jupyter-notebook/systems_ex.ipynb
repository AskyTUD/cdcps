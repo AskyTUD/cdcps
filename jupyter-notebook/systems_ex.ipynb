{
 "cells": [
  {
   "cell_type": "markdown",
   "metadata": {
    "pycharm": {
     "name": "#%% md\n"
    }
   },
   "source": [
    "# Systems\n",
    "This file illustrates how to define and solve LTI systems using cdcps."
   ]
  },
  {
   "cell_type": "code",
   "execution_count": null,
   "metadata": {
    "pycharm": {
     "name": "#%%\n"
    }
   },
   "outputs": [],
   "source": [
    "# libraries for plotting things -----------------------\n",
    "import sys  \n",
    "sys.path.insert(0, '..')\n",
    "from bokeh.plotting import figure, output_file, show\n",
    "from bokeh.io import output_notebook\n",
    "\n",
    "import numpy as np\n",
    "import cdcps as cps"
   ]
  },
  {
   "cell_type": "markdown",
   "metadata": {
    "pycharm": {
     "name": "#%% md\n"
    }
   },
   "source": [
    "#### (1) LTI system with piecewise constant input signal\n",
    "We define a two-dimensional LTI system with one input and one output. Also, the initial value of the system is set to the steady state. The final time of the simulation horizon is 30. During the simulation, the system is evaluated at 1000 grid points. The string parameter of the plot_system method specifies whether the output ('O'), the states ('S') or the input ('I') should be plotted."
   ]
  },
  {
   "cell_type": "code",
   "execution_count": null,
   "metadata": {
    "pycharm": {
     "name": "#%%\n"
    }
   },
   "outputs": [],
   "source": [
    "# define dynamical system --------------------------------\n",
    "sys1 = cps.System()\n",
    "sys1.state_matrix = np.array([[-1, 2], [0, -0.5]])\n",
    "sys1.input_matrix = np.array([[0], [1]])\n",
    "sys1.output_matrix = np.array([[1, 0.0]])\n",
    "sys1.initial_state = np.array([[0], [0]])\n",
    "sys1.Ngrid = 1000\n",
    "sys1.t_final = 30"
   ]
  },
  {
   "cell_type": "markdown",
   "metadata": {
    "pycharm": {
     "name": "#%% md\n"
    }
   },
   "source": [
    "In the first case, the input signal is a rectangular signal."
   ]
  },
  {
   "cell_type": "code",
   "execution_count": null,
   "metadata": {
    "pycharm": {
     "name": "#%%\n"
    }
   },
   "outputs": [],
   "source": [
    "# define input signal ------------------------------------\n",
    "xgrid = np.array([0, 1, 3])\n",
    "ygrid = np.array([0, 1, 0])\n",
    "sg1 = cps.Signals.get_PC_Function(xgrid, ygrid, 0)\n",
    "sys1.input_val = sg1.signal\n",
    "\n",
    "# build and simulate the dynamical system ----------------\n",
    "sys1.build_system()\n",
    "sys1.simulate_system()\n",
    "\n",
    "output_notebook()\n",
    "sys1.plot_system(\"OSI\")"
   ]
  },
  {
   "cell_type": "markdown",
   "metadata": {
    "pycharm": {
     "name": "#%% md\n"
    }
   },
   "source": [
    "In the second case, we use an exponentially damped sinusoidal input signal."
   ]
  },
  {
   "cell_type": "code",
   "execution_count": null,
   "metadata": {
    "pycharm": {
     "name": "#%%\n"
    }
   },
   "outputs": [],
   "source": [
    "# define input signal ------------------------------------\n",
    "sg2 = cps.Signals.get_EDS_Function({'u0':1, 'omega':1})\n",
    "sys1.input_val = sg2.signal\n",
    "\n",
    "# build and simulate the dynamical system ----------------\n",
    "sys1.build_system()\n",
    "sys1.simulate_system()\n",
    "\n",
    "output_notebook()\n",
    "sys1.plot_system()"
   ]
  },
  {
   "cell_type": "markdown",
   "metadata": {
    "pycharm": {
     "name": "#%% md\n"
    }
   },
   "source": [
    "#### (3) Discretization of a continuous system\n",
    "In this section, we show how we can use cdcps to obtain a discrete-time system from an LTI system."
   ]
  },
  {
   "cell_type": "code",
   "execution_count": null,
   "metadata": {
    "pycharm": {
     "name": "#%%\n"
    }
   },
   "outputs": [],
   "source": [
    "# define dynamical system --------------------------------\n",
    "sys1 = cps.System()\n",
    "sys1.state_matrix = np.array([[-1, 2],[0, -0.5]])\n",
    "sys1.input_matrix = np.array([[0],[1]])\n",
    "sys1.output_matrix = np.array([[1, 0.0]])\n",
    "sys1.initial_state = np.array([[0], [0]])\n",
    "sys1.input_val = 1 # only for constant input\n",
    "sys1.Ngrid = 1000\n",
    "sys1.t_final = 30\n",
    "\n",
    "output_notebook()\n",
    "# build and simulate the dynamical system ----------------\n",
    "sys1_d = sys1.get_discrete_system(T=.1, plot=True)"
   ]
  },
  {
   "cell_type": "code",
   "execution_count": null,
   "metadata": {
    "pycharm": {
     "name": "#%%\n"
    }
   },
   "outputs": [],
   "source": [
    "print('Discrete system matrix: \\n', sys1_d.state_matrix)\n",
    "print('Matrix exponential: \\n', cps.System.get_Matrix_exponential(A=sys1.state_matrix,T=.1))"
   ]
  },
  {
   "cell_type": "markdown",
   "metadata": {
    "pycharm": {
     "name": "#%% md\n"
    }
   },
   "source": [
    "#### (4) Transfer function of an LTI system\n",
    "In the following, an LTI system is defined by the system, input and output matrix and subsequently its transfer function is calculated. The transfer function is finally illustrated in a Bode plot and a Nyquist plot.\n",
    "The domain of the plot is between $10^{-3}$ and $10^3$. A predefined frequency $\\omega$ is highlighted in the diagram."
   ]
  },
  {
   "cell_type": "code",
   "execution_count": null,
   "metadata": {
    "pycharm": {
     "name": "#%%\n"
    }
   },
   "outputs": [],
   "source": [
    "# define input signal ------------------------------------\n",
    "sg2 = cps.Signals.get_EDS_Function({'u0':1, 'omega':1})\n",
    "# define dynamical system --------------------------------\n",
    "sys2 = cps.System()\n",
    "sys2.state_matrix = np.array([[-1, 2],[0, -0.5]])\n",
    "sys2.input_matrix = np.array([[0],[1]])\n",
    "sys2.output_matrix = np.array([[1, 0.0]])\n",
    "sys2.initial_state = np.array([[0], [0]])\n",
    "sys2.input_val = sg2.signal # 1\n",
    "sys2.Ngrid = 1000\n",
    "sys2.t_final = 30\n",
    "\n",
    "output_notebook()\n",
    "# build and simulate the dynamical system ----------------\n",
    "sys2.get_control_system()\n",
    "omega_base = 2\n",
    "sys2.plot_bode([-3, 3], at_omega=omega_base, show_omega=True)\n",
    "sys2.plot_nyquist(at_omega=omega_base, show_omega=True)"
   ]
  },
  {
   "cell_type": "markdown",
   "metadata": {
    "pycharm": {
     "name": "#%% md\n"
    }
   },
   "source": [
    "#### (5) Direct definition of the transfer function\n",
    "Next, it is shown that the transfer function can be defined directly by its numerator and denominator components or roots. To do this, the type of information must be specified via a string. Here 'c' means components and 'r' means roots are given. The default type is 'c' for both the numerator and denominator."
   ]
  },
  {
   "cell_type": "code",
   "execution_count": null,
   "metadata": {
    "pycharm": {
     "name": "#%%\n"
    }
   },
   "outputs": [],
   "source": [
    "output_notebook()\n",
    "num = [-3, 12]\n",
    "den = [1, 5, 5, 4]\n",
    "\n",
    "sys_tf = cps.System.get_transfer_function(num, den)\n",
    "# sys_tf.plot_nyquist()\n",
    "sys_tf.plot_bode([-3, 3])"
   ]
  },
  {
   "cell_type": "code",
   "execution_count": null,
   "metadata": {
    "pycharm": {
     "name": "#%%\n"
    }
   },
   "outputs": [],
   "source": [
    "output_notebook()\n",
    "num = [2]\n",
    "den = [-3, -2]\n",
    "\n",
    "sys_tf = cps.System.get_transfer_function(num, den, type=[\"c\", \"r\"])\n",
    "# sys_tf.plot_nyquist()\n",
    "sys_tf.plot_bode([-3, 3], show_phase_margin=False)"
   ]
  },
  {
   "cell_type": "code",
   "execution_count": null,
   "metadata": {
    "pycharm": {
     "name": "#%%\n"
    }
   },
   "outputs": [],
   "source": []
  }
 ],
 "metadata": {
  "kernelspec": {
   "display_name": "Python 3 (ipykernel)",
   "language": "python",
   "name": "python3"
  },
  "language_info": {
   "codemirror_mode": {
    "name": "ipython",
    "version": 3
   },
   "file_extension": ".py",
   "mimetype": "text/x-python",
   "name": "python",
   "nbconvert_exporter": "python",
   "pygments_lexer": "ipython3",
   "version": "3.8.13"
  }
 },
 "nbformat": 4,
 "nbformat_minor": 1
}