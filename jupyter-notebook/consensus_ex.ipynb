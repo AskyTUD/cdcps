{
 "cells": [
  {
   "cell_type": "markdown",
   "source": [
    "# Consensus\n",
    "This file illustrates how to study consensus problems using cdcps."
   ],
   "metadata": {
    "collapsed": false,
    "pycharm": {
     "name": "#%% md\n"
    }
   }
  },
  {
   "cell_type": "code",
   "execution_count": 10,
   "outputs": [],
   "source": [
    "# libraries for plotting things -----------------------\n",
    "from bokeh.plotting import figure, output_file, show\n",
    "from bokeh.io import output_notebook\n",
    "\n",
    "import numpy as np\n",
    "import cdcps as cps"
   ],
   "metadata": {
    "collapsed": false,
    "pycharm": {
     "name": "#%%\n"
    }
   }
  },
  {
   "cell_type": "markdown",
   "source": [
    "#### (1) Analyzing Consensus for multi-agent systems\n",
    "First, we study several multi-agent systems for consensus."
   ],
   "metadata": {
    "collapsed": false,
    "pycharm": {
     "name": "#%% md\n"
    }
   }
  },
  {
   "cell_type": "code",
   "execution_count": null,
   "outputs": [],
   "source": [
    "output_notebook()\n",
    "E = [(1, 2, 0.4),\n",
    "      (1, 3, 0.4),\n",
    "      (2, 4, 0.5),\n",
    "      (2, 5, 0.3),\n",
    "      (3, 2, 0.4),\n",
    "      (4, 1, 0.8),\n",
    "      (5, 4, 0.3)\n",
    "      ]\n",
    "NET1 = cps.Graph.get_graph_from_edges(E)\n",
    "NET_SYS = cps.MultiAgent.get_networked_system(graphs=[NET1])\n",
    "NET_SYS.initial_state = np.array([-2, -1, 0, 1.5, 2])\n",
    "NET_SYS.t_final = 30\n",
    "NET_SYS.plot_consensus()"
   ],
   "metadata": {
    "collapsed": false,
    "pycharm": {
     "name": "#%%\n"
    }
   }
  },
  {
   "cell_type": "markdown",
   "source": [
    "The following example illustrates how a multi-agent system behaves when the network communication is given by a series topology."
   ],
   "metadata": {
    "collapsed": false,
    "pycharm": {
     "name": "#%% md\n"
    }
   }
  },
  {
   "cell_type": "code",
   "execution_count": null,
   "outputs": [],
   "source": [
    "A = np.array([[0.0, 0.0, 0.0, 0.0, 0.0],\n",
    "              [1.0, 0.0, 0.0, 0.0, 0.0],\n",
    "              [0.0, 1.0, 0.0, 0.0, 0.0],\n",
    "              [0.0, 0.0, 1.0, 0.0, 0.0],\n",
    "              [0.0, 0.0, 0.0, 1.0, 0.0]\n",
    "            ])\n",
    "NET_series = cps.Graph.get_graph_from_adjacency(A)\n",
    "NET_series.plot_graph(\"circular\")\n",
    "NET_SYS_series = cps.MultiAgent.get_networked_system(graphs=[NET_series])\n",
    "NET_SYS_series.initial_state = np.array([-2, -1, 0, 1, 2])\n",
    "NET_SYS_series.t_final = 30\n",
    "NET_SYS_series.plot_consensus()"
   ],
   "metadata": {
    "collapsed": false,
    "pycharm": {
     "name": "#%%\n"
    }
   }
  },
  {
   "cell_type": "markdown",
   "source": [
    "The following example illustrates how a multi-agent system behaves when the network communication is given by a ring topology."
   ],
   "metadata": {
    "collapsed": false,
    "pycharm": {
     "name": "#%% md\n"
    }
   }
  },
  {
   "cell_type": "code",
   "execution_count": null,
   "outputs": [],
   "source": [
    "A = np.array([[0.0, 0.0, 0.0, 0.0, 1.0],\n",
    "              [1.0, 0.0, 0.0, 0.0, 0.0],\n",
    "              [0.0, 1.0, 0.0, 0.0, 0.0],\n",
    "              [0.0, 0.0, 1.0, 0.0, 0.0],\n",
    "              [0.0, 0.0, 0.0, 1.0, 0.0]\n",
    "            ])\n",
    "NET_ring = cps.Graph.get_graph_from_adjacency(A)\n",
    "NET_ring.plot_graph(\"circular\")\n",
    "# NET_ring.show_graph_data()\n",
    "NET_SYS_ring = cps.MultiAgent.get_networked_system(graphs=[NET_ring])\n",
    "NET_SYS_ring.initial_state = np.array([-2.2, -1.5, 0, 1, 2])\n",
    "NET_SYS_ring.t_final = 30\n",
    "NET_SYS_ring.plot_consensus()"
   ],
   "metadata": {
    "collapsed": false,
    "pycharm": {
     "name": "#%%\n"
    }
   }
  },
  {
   "cell_type": "markdown",
   "source": [
    "For a two-dimensional system, the trajectory of the states can be illustrated within the state space."
   ],
   "metadata": {
    "collapsed": false,
    "pycharm": {
     "name": "#%% md\n"
    }
   }
  },
  {
   "cell_type": "code",
   "execution_count": null,
   "outputs": [],
   "source": [
    "output_notebook()\n",
    "A = np.array([[0.0, 0.4],\n",
    "              [0.6, 0.0]\n",
    "              ])\n",
    "G2 = cps.Graph.get_graph_from_adjacency(A)\n",
    "NET_SYS = cps.MultiAgent.get_networked_system(graphs=[G2])\n",
    "NET_SYS.initial_state = np.array([-2.2, -2.5])\n",
    "NET_SYS.t_final = 30\n",
    "NET_SYS.plot_consensus(Xspace=True)"
   ],
   "metadata": {
    "collapsed": false,
    "pycharm": {
     "name": "#%%\n"
    }
   }
  },
  {
   "cell_type": "markdown",
   "source": [
    "#### (2) Switching networked systems\n",
    "Next, we consider the case where the communication in the network changes. First, we assume that all individual graphs are strongly connected.\n"
   ],
   "metadata": {
    "collapsed": false,
    "pycharm": {
     "name": "#%% md\n"
    }
   }
  },
  {
   "cell_type": "markdown",
   "source": [
    "##### (a) defining the graphs"
   ],
   "metadata": {
    "collapsed": false,
    "pycharm": {
     "name": "#%% md\n"
    }
   }
  },
  {
   "cell_type": "code",
   "execution_count": 2,
   "outputs": [],
   "source": [
    "# GRAPH 1 --------------------------------------\n",
    "A1 = np.array([[0.0, 1.0, 0.0, 1.0],\n",
    "               [1.0, 0.0, 1.0, 0.0],\n",
    "               [0.0, 1.0, 0.0, 0.0],\n",
    "               [1.0, 0.0, 0.0, 0.0]\n",
    "               ])\n",
    "NET1 = cps.Graph.get_graph_from_adjacency(A1)\n",
    "# # GRAPH 2 --------------------------------------\n",
    "A2 = np.array([[0.0, 0.0, 1.0, 0.0],\n",
    "               [0.0, 0.0, 1.0, 0.0],\n",
    "               [1.0, 1.0, 0.0, 1.0],\n",
    "               [0.0, 0.0, 1.0, 0.0]\n",
    "               ])\n",
    "NET2 = cps.Graph.get_graph_from_adjacency(A2)\n",
    "# # GRAPH 3 --------------------------------------\n",
    "A3 = np.array([[0.0, 1.0, 1.0, 1.0],\n",
    "               [1.0, 0.0, 0.0, 0.0],\n",
    "               [1.0, 0.0, 0.0, 0.0],\n",
    "               [1.0, 0.0, 0.0, 0.0]\n",
    "               ])\n",
    "NET3 = cps.Graph.get_graph_from_adjacency(A3)\n",
    "#                0     1     2\n",
    "graph_list = [NET1, NET2, NET3]"
   ],
   "metadata": {
    "collapsed": false,
    "pycharm": {
     "name": "#%%\n"
    }
   }
  },
  {
   "cell_type": "markdown",
   "source": [
    "##### (b) show properties and create a system union"
   ],
   "metadata": {
    "collapsed": false,
    "pycharm": {
     "name": "#%% md\n"
    }
   }
  },
  {
   "cell_type": "code",
   "execution_count": 9,
   "outputs": [
    {
     "name": "stdout",
     "output_type": "stream",
     "text": [
      "                    graph 1    graph 2    graph 3\n",
      "------------------  ---------  ---------  ---------\n",
      "weight_balanced     True       True       True\n",
      "strongly_connected  True       True       True\n",
      "spanning_tree       True       True       True\n"
     ]
    },
    {
     "data": {
      "text/plain": "<Figure size 432x288 with 1 Axes>",
      "image/png": "[encoded data removed]"
     },
     "metadata": {},
     "output_type": "display_data"
    },
    {
     "name": "stdout",
     "output_type": "stream",
     "text": [
      "The graph union is strongly connected: True\n"
     ]
    }
   ],
   "source": [
    "cps.MultiAgent.show_switching_data(graph_list)\n",
    "NET_tot = cps.Graph.get_graph_from_union(graph_list)\n",
    "NET_tot.plot_graph(\"circular\")\n",
    "print(\"The graph union is strongly connected: \" + str(NET_tot.strongly_connected))"
   ],
   "metadata": {
    "collapsed": false,
    "pycharm": {
     "name": "#%%\n"
    }
   }
  },
  {
   "cell_type": "markdown",
   "source": [
    "##### (c) defining the switching function"
   ],
   "metadata": {
    "collapsed": false,
    "pycharm": {
     "name": "#%% md\n"
    }
   }
  },
  {
   "cell_type": "code",
   "execution_count": null,
   "outputs": [],
   "source": [
    "T_samp = 1\n",
    "time_grid = range(0,4,T_samp)\n",
    "sigma_val = np.tile([0, 1],100)[:len(time_grid)]\n",
    "default_graph = 0\n",
    "sigma = cps.Signals.get_PC_Function(time_grid, sigma_val, default_graph)"
   ],
   "metadata": {
    "collapsed": false,
    "pycharm": {
     "name": "#%%\n"
    }
   }
  }
 ],
 "metadata": {
  "kernelspec": {
   "display_name": "Python 3",
   "language": "python",
   "name": "python3"
  },
  "language_info": {
   "codemirror_mode": {
    "name": "ipython",
    "version": 2
   },
   "file_extension": ".py",
   "mimetype": "text/x-python",
   "name": "python",
   "nbconvert_exporter": "python",
   "pygments_lexer": "ipython2",
   "version": "2.7.6"
  }
 },
 "nbformat": 4,
 "nbformat_minor": 0
}