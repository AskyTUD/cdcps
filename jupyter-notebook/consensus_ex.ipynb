{
 "cells": [
  {
   "cell_type": "markdown",
   "source": [
    "# Consensus\n",
    "This file illustrates how to study consensus problems using cdcps."
   ],
   "metadata": {
    "collapsed": false,
    "pycharm": {
     "name": "#%% md\n"
    }
   }
  },
  {
   "cell_type": "code",
   "execution_count": null,
   "outputs": [],
   "source": [
    "# libraries for plotting things -----------------------\n",
    "from bokeh.plotting import figure, output_file, show\n",
    "from bokeh.io import output_notebook\n",
    "\n",
    "import numpy as np\n",
    "import cdcps as cps"
   ],
   "metadata": {
    "collapsed": false,
    "pycharm": {
     "name": "#%%\n"
    }
   }
  },
  {
   "cell_type": "markdown",
   "source": [
    "#### (1) Analyzing Consensus for multi-agent systems\n",
    "First, we study several multi-agent systems for consensus."
   ],
   "metadata": {
    "collapsed": false,
    "pycharm": {
     "name": "#%% md\n"
    }
   }
  },
  {
   "cell_type": "code",
   "execution_count": null,
   "outputs": [],
   "source": [
    "output_notebook()\n",
    "E = [(1, 2, 0.4),\n",
    "      (1, 3, 0.4),\n",
    "      (2, 4, 0.5),\n",
    "      (2, 5, 0.3),\n",
    "      (3, 2, 0.4),\n",
    "      (4, 1, 0.8),\n",
    "      (5, 4, 0.3)\n",
    "      ]\n",
    "NET1 = cps.Graph.get_graph_from_edges(E)\n",
    "NET_SYS = cps.MultiAgent.get_networked_system(graphs=[NET1])\n",
    "NET_SYS.initial_state = np.array([-2, -1, 0, 1.5, 2])\n",
    "NET_SYS.t_final = 30\n",
    "NET_SYS.plot_consensus()"
   ],
   "metadata": {
    "collapsed": false,
    "pycharm": {
     "name": "#%%\n"
    }
   }
  },
  {
   "cell_type": "markdown",
   "source": [
    "The following example illustrates how a multi-agent system behaves when the network communication is given by a series topology."
   ],
   "metadata": {
    "collapsed": false,
    "pycharm": {
     "name": "#%% md\n"
    }
   }
  },
  {
   "cell_type": "code",
   "execution_count": null,
   "outputs": [],
   "source": [
    "output_notebook()\n",
    "A = np.array([[0.0, 0.0, 0.0, 0.0, 0.0],\n",
    "              [1.0, 0.0, 0.0, 0.0, 0.0],\n",
    "              [0.0, 1.0, 0.0, 0.0, 0.0],\n",
    "              [0.0, 0.0, 1.0, 0.0, 0.0],\n",
    "              [0.0, 0.0, 0.0, 1.0, 0.0]\n",
    "            ])\n",
    "NET_series = cps.Graph.get_graph_from_adjacency(A)\n",
    "NET_series.plot_graph(\"circular\")\n",
    "NET_SYS_series = cps.MultiAgent.get_networked_system(graphs=[NET_series])\n",
    "NET_SYS_series.initial_state = np.array([-2, -1, 0, 1, 2])\n",
    "NET_SYS_series.t_final = 30\n",
    "NET_SYS_series.plot_consensus()"
   ],
   "metadata": {
    "collapsed": false,
    "pycharm": {
     "name": "#%%\n"
    }
   }
  },
  {
   "cell_type": "markdown",
   "source": [
    "The following example illustrates how a multi-agent system behaves when the network communication is given by a ring topology."
   ],
   "metadata": {
    "collapsed": false,
    "pycharm": {
     "name": "#%% md\n"
    }
   }
  },
  {
   "cell_type": "code",
   "execution_count": null,
   "outputs": [],
   "source": [
    "output_notebook()\n",
    "A = np.array([[0.0, 0.0, 0.0, 0.0, 1.0],\n",
    "              [1.0, 0.0, 0.0, 0.0, 0.0],\n",
    "              [0.0, 1.0, 0.0, 0.0, 0.0],\n",
    "              [0.0, 0.0, 1.0, 0.0, 0.0],\n",
    "              [0.0, 0.0, 0.0, 1.0, 0.0]\n",
    "            ])\n",
    "NET_ring = cps.Graph.get_graph_from_adjacency(A)\n",
    "NET_ring.plot_graph(\"circular\")\n",
    "# NET_ring.show_graph_data()\n",
    "NET_SYS_ring = cps.MultiAgent.get_networked_system(graphs=[NET_ring])\n",
    "NET_SYS_ring.initial_state = np.array([-2.2, -1.5, 0, 1, 2])\n",
    "NET_SYS_ring.t_final = 30\n",
    "NET_SYS_ring.plot_consensus()"
   ],
   "metadata": {
    "collapsed": false,
    "pycharm": {
     "name": "#%%\n"
    }
   }
  },
  {
   "cell_type": "markdown",
   "source": [
    "For a two-dimensional system, the trajectory of the states can be illustrated within the state space."
   ],
   "metadata": {
    "collapsed": false,
    "pycharm": {
     "name": "#%% md\n"
    }
   }
  },
  {
   "cell_type": "code",
   "execution_count": null,
   "outputs": [],
   "source": [
    "output_notebook()\n",
    "A = np.array([[0.0, 0.4],\n",
    "              [0.6, 0.0]\n",
    "              ])\n",
    "G2 = cps.Graph.get_graph_from_adjacency(A)\n",
    "NET_SYS = cps.MultiAgent.get_networked_system(graphs=[G2])\n",
    "NET_SYS.initial_state = np.array([-2.2, -2.5])\n",
    "NET_SYS.t_final = 30\n",
    "NET_SYS.plot_consensus(Xspace=True)"
   ],
   "metadata": {
    "collapsed": false,
    "pycharm": {
     "name": "#%%\n"
    }
   }
  },
  {
   "cell_type": "markdown",
   "source": [
    "#### (2) Switching networked systems -- strongly connected graphs\n",
    "Next, we consider the case where the communication in the network changes. First, we assume that all individual graphs are strongly connected.\n"
   ],
   "metadata": {
    "collapsed": false,
    "pycharm": {
     "name": "#%% md\n"
    }
   }
  },
  {
   "cell_type": "markdown",
   "source": [
    "#### 1. Example\n",
    "##### (a) defining the graphs\n",
    "We define three different communication networks via their adjacency matrix. In order to use them to simulate a switching network, we put these graphs in a list."
   ],
   "metadata": {
    "collapsed": false,
    "pycharm": {
     "name": "#%% md\n"
    }
   }
  },
  {
   "cell_type": "code",
   "execution_count": null,
   "outputs": [],
   "source": [
    "# GRAPH 1 --------------------------------------\n",
    "A1 = np.array([[0.0, 1.0, 0.0, 1.0],\n",
    "               [1.0, 0.0, 1.0, 0.0],\n",
    "               [0.0, 1.0, 0.0, 0.0],\n",
    "               [1.0, 0.0, 0.0, 0.0]\n",
    "               ])\n",
    "NET1 = cps.Graph.get_graph_from_adjacency(A1)\n",
    "# # GRAPH 2 --------------------------------------\n",
    "A2 = np.array([[0.0, 0.0, 1.0, 0.0],\n",
    "               [0.0, 0.0, 1.0, 0.0],\n",
    "               [1.0, 1.0, 0.0, 1.0],\n",
    "               [0.0, 0.0, 1.0, 0.0]\n",
    "               ])\n",
    "NET2 = cps.Graph.get_graph_from_adjacency(A2)\n",
    "# # GRAPH 3 --------------------------------------\n",
    "A3 = np.array([[0.0, 1.0, 1.0, 1.0],\n",
    "               [1.0, 0.0, 0.0, 0.0],\n",
    "               [1.0, 0.0, 0.0, 0.0],\n",
    "               [1.0, 0.0, 0.0, 0.0]\n",
    "               ])\n",
    "NET3 = cps.Graph.get_graph_from_adjacency(A3)\n",
    "#                0     1     2\n",
    "graph_list = [NET1, NET2, NET3]"
   ],
   "metadata": {
    "collapsed": false,
    "pycharm": {
     "name": "#%%\n"
    }
   }
  },
  {
   "cell_type": "markdown",
   "source": [
    "##### (b) show properties and create a system union\n",
    "Within the class MultiAgent there are several methods to analyze the list of graphs and to create a union of the graphs.\n",
    "Formally, we crete a new graph that is generated by a union of the sets of the nodes and the edges."
   ],
   "metadata": {
    "collapsed": false,
    "pycharm": {
     "name": "#%% md\n"
    }
   }
  },
  {
   "cell_type": "code",
   "execution_count": null,
   "outputs": [],
   "source": [
    "print(cps.MultiAgent.show_switching_data(graph_list))\n",
    "NET_union = cps.Graph.get_graph_from_union(graph_list)\n",
    "NET_union.plot_graph(\"circular\")\n",
    "print(\"The graph union is strongly connected: \" + str(NET_union.strongly_connected))"
   ],
   "metadata": {
    "collapsed": false,
    "pycharm": {
     "name": "#%%\n"
    }
   }
  },
  {
   "cell_type": "markdown",
   "source": [
    "##### (c) defining the switching function\n",
    "To generate a switching network, we need to define a function describing which graph is valid at which time. To do so, we use the piece wise constant function from the call Signals."
   ],
   "metadata": {
    "collapsed": false,
    "pycharm": {
     "name": "#%% md\n"
    }
   }
  },
  {
   "cell_type": "code",
   "execution_count": null,
   "outputs": [],
   "source": [
    "T_samp = 1\n",
    "time_grid = range(0,4,T_samp)\n",
    "sigma_val = np.tile([0, 1],100)[:len(time_grid)]\n",
    "default_graph = 0\n",
    "sigma = cps.Signals.get_PC_Function(time_grid, sigma_val, default_graph)\n",
    "print(sigma)"
   ],
   "metadata": {
    "collapsed": false,
    "pycharm": {
     "name": "#%%\n"
    }
   }
  },
  {
   "cell_type": "markdown",
   "source": [
    "##### (d) generate networked system (continuous and discrete)\n",
    "Finally, we create the networked system using all information define before."
   ],
   "metadata": {
    "collapsed": false,
    "pycharm": {
     "name": "#%% md\n"
    }
   }
  },
  {
   "cell_type": "code",
   "execution_count": null,
   "outputs": [],
   "source": [
    "NET_SYS = cps.MultiAgent.get_networked_system(graphs=graph_list)\n",
    "NET_union_SYS = cps.MultiAgent.get_networked_system(graphs=[NET_union])"
   ],
   "metadata": {
    "collapsed": false,
    "pycharm": {
     "name": "#%%\n"
    }
   }
  },
  {
   "cell_type": "markdown",
   "source": [
    "##### (e) simulate switching system\n",
    "By defining an initial value, the switching networked system can be simulated and their results can be plotted."
   ],
   "metadata": {
    "collapsed": false,
    "pycharm": {
     "name": "#%% md\n"
    }
   }
  },
  {
   "cell_type": "code",
   "execution_count": null,
   "outputs": [],
   "source": [
    "t_final = 10\n",
    "x_init = np.array([-2, 2, 3, 2.5])\n",
    "\n",
    "output_notebook()\n",
    "NET_SYS.initial_state = x_init\n",
    "NET_SYS.plot_consensus(sigma=sigma)\n",
    "\n",
    "NET_union_SYS.initial_state = x_init\n",
    "NET_union_SYS.t_final = t_final\n",
    "NET_union_SYS.plot_consensus()"
   ],
   "metadata": {
    "collapsed": false,
    "pycharm": {
     "name": "#%%\n"
    }
   }
  },
  {
   "cell_type": "markdown",
   "source": [
    "#### 2. Example\n",
    "##### (a) defining the graphs"
   ],
   "metadata": {
    "collapsed": false,
    "pycharm": {
     "name": "#%% md\n"
    }
   }
  },
  {
   "cell_type": "code",
   "execution_count": null,
   "outputs": [],
   "source": [
    "# GRAPH 1 --------------------------------------\n",
    "A1 = np.array([[0.0, 0.0, 0.0, 0.0, 1.0],\n",
    "               [1.0, 0.0, 0.0, 0.0, 0.0],\n",
    "               [0.0, 1.0, 0.0, 0.0, 0.0],\n",
    "               [0.0, 0.0, 1.0, 0.0, 0.0],\n",
    "               [0.0, 0.0, 0.0, 1.0, 0.0]\n",
    "             ])\n",
    "NET1 = cps.Graph.get_graph_from_adjacency(A1)\n",
    "# NET1.plot_graph(\"circular\")\n",
    "# # GRAPH 2 --------------------------------------\n",
    "A2 = np.array([[0.0, 1.0, 0.0, 0.0, 0.0],\n",
    "               [0.0, 0.0, 1.0, 0.0, 0.0],\n",
    "               [0.0, 0.0, 0.0, 1.0, 0.0],\n",
    "               [0.0, 0.0, 0.0, 0.0, 1.0],\n",
    "               [1.0, 0.0, 0.0, 0.0, 0.0]\n",
    "             ])\n",
    "NET2 = cps.Graph.get_graph_from_adjacency(A2)\n",
    "# NET2.plot_graph(\"circular\")\n",
    "#             0     1\n",
    "graph_list = [NET1, NET2]"
   ],
   "metadata": {
    "collapsed": false,
    "pycharm": {
     "name": "#%%\n"
    }
   }
  },
  {
   "cell_type": "markdown",
   "source": [
    "##### (b) show properties and create a system union"
   ],
   "metadata": {
    "collapsed": false,
    "pycharm": {
     "name": "#%% md\n"
    }
   }
  },
  {
   "cell_type": "code",
   "execution_count": null,
   "outputs": [],
   "source": [
    "print(cps.MultiAgent.show_switching_data(graph_list))\n",
    "NET_union = cps.Graph.get_graph_from_union(graph_list)\n",
    "NET_union.plot_graph(\"circular\")\n",
    "print(\"The graph union is strongly connected: \" + str(NET_union.strongly_connected))"
   ],
   "metadata": {
    "collapsed": false,
    "pycharm": {
     "name": "#%%\n"
    }
   }
  },
  {
   "cell_type": "markdown",
   "source": [
    "##### (c) defining the switching function"
   ],
   "metadata": {
    "collapsed": false,
    "pycharm": {
     "name": "#%% md\n"
    }
   }
  },
  {
   "cell_type": "code",
   "execution_count": null,
   "outputs": [],
   "source": [
    "T_samp = 1\n",
    "time_grid = range(0, 10, T_samp)\n",
    "sigma_val = np.tile([0, 1], 100)[:len(time_grid)]\n",
    "default_graph = 0\n",
    "sigma = cps.Signals.get_PC_Function(time_grid, sigma_val, default_graph)"
   ],
   "metadata": {
    "collapsed": false,
    "pycharm": {
     "name": "#%%\n"
    }
   }
  },
  {
   "cell_type": "markdown",
   "source": [
    "##### (d) generate networked system (continuous and discrete)"
   ],
   "metadata": {
    "collapsed": false,
    "pycharm": {
     "name": "#%% md\n"
    }
   }
  },
  {
   "cell_type": "code",
   "execution_count": null,
   "outputs": [],
   "source": [
    "NET_SYS = cps.MultiAgent.get_networked_system(graphs=graph_list)\n",
    "NET_union_SYS = cps.MultiAgent.get_networked_system(graphs=[NET_union])"
   ],
   "metadata": {
    "collapsed": false,
    "pycharm": {
     "name": "#%%\n"
    }
   }
  },
  {
   "cell_type": "markdown",
   "source": [
    "##### (e) simulate switching system"
   ],
   "metadata": {
    "collapsed": false,
    "pycharm": {
     "name": "#%% md\n"
    }
   }
  },
  {
   "cell_type": "code",
   "execution_count": null,
   "outputs": [],
   "source": [
    "t_final = 10\n",
    "x_init = np.array([-2, -1.3, 2, 3, 2.5])\n",
    "\n",
    "output_notebook()\n",
    "NET_SYS.initial_state = x_init\n",
    "NET_SYS.plot_consensus(sigma=sigma)\n",
    "\n",
    "NET_union_SYS.initial_state = x_init\n",
    "NET_union_SYS.t_final = t_final\n",
    "NET_union_SYS.plot_consensus()"
   ],
   "metadata": {
    "collapsed": false,
    "pycharm": {
     "name": "#%%\n"
    }
   }
  },
  {
   "cell_type": "markdown",
   "source": [
    "#### 3. Example\n",
    "##### (a) defining the graphs"
   ],
   "metadata": {
    "collapsed": false,
    "pycharm": {
     "name": "#%% md\n"
    }
   }
  },
  {
   "cell_type": "code",
   "execution_count": null,
   "outputs": [],
   "source": [
    "# GRAPH 1 --------------------------------------\n",
    "A1 = np.array([[0.0, 0.0, 0.0, 0.0, 1.0],\n",
    "               [2.0, 0.0, 0.0, 0.0, 0.0],\n",
    "               [0.0, 1.0, 0.0, 0.0, 0.0],\n",
    "               [0.0, 0.0, 1.0, 0.0, 0.0],\n",
    "               [0.0, 0.0, 0.0, 1.0, 0.0]\n",
    "             ])\n",
    "NET1 = cps.Graph.get_graph_from_adjacency(A1)\n",
    "# NET1.plot_graph(\"circular\")\n",
    "# # GRAPH 2 --------------------------------------\n",
    "A2 = np.array([[0.0, 1.0, 0.0, 0.0, 0.0],\n",
    "               [0.0, 0.0, 1.0, 0.0, 0.0],\n",
    "               [0.0, 0.0, 0.0, 2.0, 0.0],\n",
    "               [0.0, 0.0, 0.0, 0.0, 3.0],\n",
    "               [1.0, 0.0, 0.0, 0.0, 0.0]\n",
    "             ])\n",
    "NET2 = cps.Graph.get_graph_from_adjacency(A2)\n",
    "# NET2.plot_graph(\"circular\")\n",
    "#             0     1\n",
    "graph_list = [NET1, NET2]"
   ],
   "metadata": {
    "collapsed": false,
    "pycharm": {
     "name": "#%%\n"
    }
   }
  },
  {
   "cell_type": "markdown",
   "source": [
    "##### (b) show properties and create a system union"
   ],
   "metadata": {
    "collapsed": false,
    "pycharm": {
     "name": "#%% md\n"
    }
   }
  },
  {
   "cell_type": "code",
   "execution_count": null,
   "outputs": [],
   "source": [
    "print(cps.MultiAgent.show_switching_data(graph_list))\n",
    "NET_union = cps.Graph.get_graph_from_union(graph_list)\n",
    "NET_union.plot_graph(\"circular\")\n",
    "print(\"The graph union is strongly connected: \" + str(NET_union.strongly_connected))"
   ],
   "metadata": {
    "collapsed": false,
    "pycharm": {
     "name": "#%%\n"
    }
   }
  },
  {
   "cell_type": "markdown",
   "source": [
    "##### (c) defining the switching function"
   ],
   "metadata": {
    "collapsed": false,
    "pycharm": {
     "name": "#%% md\n"
    }
   }
  },
  {
   "cell_type": "code",
   "execution_count": null,
   "outputs": [],
   "source": [
    "T_samp = 0.5\n",
    "time_grid = np.arange(0,10,T_samp)\n",
    "sigma_val = np.array([0, 0, 0, 1, 0, 0, 1, 1, 1, 0, 1, 0, 1, 1, 1, 0, 0, 0, 0, 1])\n",
    "default_graph = 0\n",
    "sigma = cps.Signals.get_PC_Function(time_grid, sigma_val, default_graph)"
   ],
   "metadata": {
    "collapsed": false,
    "pycharm": {
     "name": "#%%\n"
    }
   }
  },
  {
   "cell_type": "markdown",
   "source": [
    "##### (d) generate networked system (continuous and discrete)"
   ],
   "metadata": {
    "collapsed": false,
    "pycharm": {
     "name": "#%% md\n"
    }
   }
  },
  {
   "cell_type": "code",
   "execution_count": null,
   "outputs": [],
   "source": [
    "NET_SYS = cps.MultiAgent.get_networked_system(graphs=graph_list)\n",
    "NET_tot_SYS = cps.MultiAgent.get_networked_system(graphs=[NET_union])"
   ],
   "metadata": {
    "collapsed": false,
    "pycharm": {
     "name": "#%%\n"
    }
   }
  },
  {
   "cell_type": "markdown",
   "source": [
    "##### (e) simulate switching system"
   ],
   "metadata": {
    "collapsed": false,
    "pycharm": {
     "name": "#%% md\n"
    }
   }
  },
  {
   "cell_type": "code",
   "execution_count": null,
   "outputs": [],
   "source": [
    "t_final = 10\n",
    "x_init = np.array([-2, -1.3, 2, 3, 2.5])\n",
    "\n",
    "output_notebook()\n",
    "NET_SYS.initial_state = x_init\n",
    "NET_SYS.plot_consensus(sigma=sigma)\n",
    "\n",
    "NET_union_SYS.initial_state = x_init\n",
    "NET_union_SYS.t_final = t_final\n",
    "NET_union_SYS.plot_consensus()"
   ],
   "metadata": {
    "collapsed": false,
    "pycharm": {
     "name": "#%%\n"
    }
   }
  },
  {
   "cell_type": "markdown",
   "source": [
    "#### (3) Switching networked systems -- non-strongly connected graphs\n",
    "Next, we consider the case where the communication in the network changes. Now, we want to cancel the restriction of using only strongly connected graphs. The structure is the same as before.\n"
   ],
   "metadata": {
    "collapsed": false,
    "pycharm": {
     "name": "#%% md\n"
    }
   }
  },
  {
   "cell_type": "markdown",
   "source": [
    "#### 3. Example\n",
    "##### (a) defining the graphs"
   ],
   "metadata": {
    "collapsed": false,
    "pycharm": {
     "name": "#%% md\n"
    }
   }
  },
  {
   "cell_type": "code",
   "execution_count": null,
   "outputs": [],
   "source": [
    "# GRAPH 1 --------------------------------------\n",
    "A1 = np.array([[0.0, 0.0, 0.0, 0.0, 0.0],\n",
    "               [0.0, 0.0, 0.0, 0.0, 0.0],\n",
    "               [0.0, 0.0, 0.0, 0.0, 0.0],\n",
    "               [0.0, 0.0, 0.0, 0.0, 1.0],\n",
    "               [0.0, 0.0, 0.0, 1.0, 0.0]\n",
    "             ])\n",
    "NET1 = cps.Graph.get_graph_from_adjacency(A1)\n",
    "# NET1.plot_graph(\"circular\")\n",
    "# # GRAPH 2 --------------------------------------\n",
    "A2 = np.array([[0.0, 1.0, 1.0, 0.0, 0.0],\n",
    "               [1.0, 0.0, 0.0, 0.0, 0.0],\n",
    "               [1.0, 0.0, 0.0, 0.0, 0.0],\n",
    "               [0.0, 0.0, 0.0, 0.0, 0.0],\n",
    "               [0.0, 0.0, 0.0, 0.0, 0.0]\n",
    "             ])\n",
    "NET2 = cps.Graph.get_graph_from_adjacency(A2)\n",
    "# NET2.plot_graph(\"circular\")\n",
    "# # GRAPH 3 --------------------------------------\n",
    "A3 = np.array([[0.0, 0.0, 0.0, 0.0, 0.0],\n",
    "               [0.0, 0.0, 0.0, 1.0, 0.0],\n",
    "               [0.0, 0.0, 0.0, 1.0, 0.0],\n",
    "               [0.0, 1.0, 1.0, 0.0, 0.0],\n",
    "               [0.0, 0.0, 0.0, 0.0, 0.0]\n",
    "             ])\n",
    "NET3 = cps.Graph.get_graph_from_adjacency(A3)\n",
    "# NET3.plot_graph(\"circular\")\n",
    "#             0     1     2\n",
    "graph_list = [NET1, NET2, NET3]"
   ],
   "metadata": {
    "collapsed": false,
    "pycharm": {
     "name": "#%%\n"
    }
   }
  },
  {
   "cell_type": "markdown",
   "source": [
    "##### (b) show properties and create a system union"
   ],
   "metadata": {
    "collapsed": false,
    "pycharm": {
     "name": "#%% md\n"
    }
   }
  },
  {
   "cell_type": "code",
   "execution_count": null,
   "outputs": [],
   "source": [
    "print(cps.MultiAgent.show_switching_data(graph_list))\n",
    "NET_tot = cps.Graph.get_graph_from_union(graph_list)\n",
    "NET_tot.plot_graph(\"circular\")\n",
    "print(\"The graph union is strongly connected: \" + str(NET_tot.strongly_connected))"
   ],
   "metadata": {
    "collapsed": false,
    "pycharm": {
     "name": "#%%\n"
    }
   }
  },
  {
   "cell_type": "markdown",
   "source": [
    "##### (c) defining the switching function"
   ],
   "metadata": {
    "collapsed": false,
    "pycharm": {
     "name": "#%% md\n"
    }
   }
  },
  {
   "cell_type": "code",
   "execution_count": null,
   "outputs": [],
   "source": [
    "T_samp = 5\n",
    "time_grid = range(0,100,T_samp)\n",
    "sigma_val = np.tile([0, 1, 2],100)[:len(time_grid)]\n",
    "default_graph = 1\n",
    "sigma = cps.Signals.get_PC_Function(time_grid, sigma_val, default_graph)"
   ],
   "metadata": {
    "collapsed": false,
    "pycharm": {
     "name": "#%%\n"
    }
   }
  },
  {
   "cell_type": "markdown",
   "source": [
    "##### (d) generate networked system (continuous and discrete)"
   ],
   "metadata": {
    "collapsed": false,
    "pycharm": {
     "name": "#%% md\n"
    }
   }
  },
  {
   "cell_type": "code",
   "execution_count": null,
   "outputs": [],
   "source": [
    "NET_SYS = cps.MultiAgent.get_networked_system(graphs=graph_list)\n",
    "NET_tot_SYS = cps.MultiAgent.get_networked_system(graphs=[NET_union])"
   ],
   "metadata": {
    "collapsed": false,
    "pycharm": {
     "name": "#%%\n"
    }
   }
  },
  {
   "cell_type": "markdown",
   "source": [
    "##### (e) simulate switching system"
   ],
   "metadata": {
    "collapsed": false,
    "pycharm": {
     "name": "#%% md\n"
    }
   }
  },
  {
   "cell_type": "code",
   "execution_count": null,
   "outputs": [],
   "source": [
    "t_final = 10\n",
    "x_init = np.array([-2, -1.3, 2, 3, 2.5])\n",
    "\n",
    "output_notebook()\n",
    "NET_SYS.initial_state = x_init\n",
    "NET_SYS.plot_consensus(sigma=sigma)\n",
    "\n",
    "NET_union_SYS.initial_state = x_init\n",
    "NET_union_SYS.t_final = t_final\n",
    "NET_union_SYS.plot_consensus()"
   ],
   "metadata": {
    "collapsed": false,
    "pycharm": {
     "name": "#%%\n"
    }
   }
  },
  {
   "cell_type": "markdown",
   "source": [
    "#### 2. Example\n",
    "##### (a) defining the graphs"
   ],
   "metadata": {
    "collapsed": false,
    "pycharm": {
     "name": "#%% md\n"
    }
   }
  },
  {
   "cell_type": "code",
   "execution_count": null,
   "outputs": [],
   "source": [
    "# GRAPH 1 --------------------------------------\n",
    "A1 = np.array([[0.0, 0.0, 0.0, 0.0, 1.0],\n",
    "               [0.0, 0.0, 0.0, 0.0, 0.0],\n",
    "               [0.0, 0.0, 0.0, 0.0, 0.0],\n",
    "               [0.0, 0.0, 0.0, 0.0, 0.0],\n",
    "               [1.0, 0.0, 0.0, 0.0, 0.0]\n",
    "             ])\n",
    "NET1 = cps.Graph.get_graph_from_adjacency(A1)\n",
    "NET1.plot_graph(\"circular\")\n",
    "# # GRAPH 2 --------------------------------------\n",
    "A2 = np.array([[0.0, 0.0, 0.0, 1.0, 0.0],\n",
    "               [0.0, 0.0, 0.0, 0.0, 0.0],\n",
    "               [0.0, 0.0, 0.0, 0.0, 1.0],\n",
    "               [1.0, 0.0, 0.0, 0.0, 0.0],\n",
    "               [0.0, 0.0, 1.0, 0.0, 0.0]\n",
    "             ])\n",
    "NET2 = cps.Graph.get_graph_from_adjacency(A2)\n",
    "NET2.plot_graph(\"circular\")\n",
    "# # GRAPH 3 --------------------------------------\n",
    "A3 = np.array([[0.0, 1.0, 0.0, 0.0, 0.0],\n",
    "               [1.0, 0.0, 1.0, 0.0, 0.0],\n",
    "               [0.0, 1.0, 0.0, 0.0, 0.0],\n",
    "               [0.0, 0.0, 0.0, 0.0, 0.0],\n",
    "               [0.0, 0.0, 0.0, 0.0, 0.0]\n",
    "             ])\n",
    "NET3 = cps.Graph.get_graph_from_adjacency(A3)\n",
    "NET3.plot_graph(\"circular\")\n",
    "#                0     1     2\n",
    "graph_list = [NET1, NET2, NET3]"
   ],
   "metadata": {
    "collapsed": false,
    "pycharm": {
     "name": "#%%\n"
    }
   }
  },
  {
   "cell_type": "markdown",
   "source": [
    "##### (b) show properties and create a system union"
   ],
   "metadata": {
    "collapsed": false,
    "pycharm": {
     "name": "#%% md\n"
    }
   }
  },
  {
   "cell_type": "code",
   "execution_count": null,
   "outputs": [],
   "source": [
    "print(cps.MultiAgent.show_switching_data(graph_list))\n",
    "NET_union = cps.Graph.get_graph_from_union(graph_list)\n",
    "NET_union.plot_graph(\"circular\")\n",
    "print(\"The graph union is strongly connected: \" + str(NET_union.strongly_connected))"
   ],
   "metadata": {
    "collapsed": false,
    "pycharm": {
     "name": "#%%\n"
    }
   }
  },
  {
   "cell_type": "markdown",
   "source": [
    "##### (c) defining the switching function"
   ],
   "metadata": {
    "collapsed": false,
    "pycharm": {
     "name": "#%% md\n"
    }
   }
  },
  {
   "cell_type": "code",
   "execution_count": null,
   "outputs": [],
   "source": [
    "T_samp = 0.05\n",
    "time_grid = np.arange(0, 20, T_samp)\n",
    "sigma_val = np.tile([0, 1, 2], int(np.ceil(len(time_grid) /len(graph_list))) )[:len(time_grid)]\n",
    "default_graph = 0\n",
    "sigma = cps.Signals.get_PC_Function(time_grid, sigma_val, default_graph)"
   ],
   "metadata": {
    "collapsed": false,
    "pycharm": {
     "name": "#%%\n"
    }
   }
  },
  {
   "cell_type": "markdown",
   "source": [
    "##### (d) generate networked system (continuous and discrete)"
   ],
   "metadata": {
    "collapsed": false,
    "pycharm": {
     "name": "#%% md\n"
    }
   }
  },
  {
   "cell_type": "code",
   "execution_count": null,
   "outputs": [],
   "source": [
    "NET_SYS = cps.MultiAgent.get_networked_system(graphs=graph_list)\n",
    "NET_tot_SYS = cps.MultiAgent.get_networked_system(graphs=[NET_tot])"
   ],
   "metadata": {
    "collapsed": false,
    "pycharm": {
     "name": "#%%\n"
    }
   }
  },
  {
   "cell_type": "markdown",
   "source": [
    "##### (e) simulate switching system"
   ],
   "metadata": {
    "collapsed": false,
    "pycharm": {
     "name": "#%% md\n"
    }
   }
  },
  {
   "cell_type": "code",
   "execution_count": null,
   "outputs": [],
   "source": [
    "t_final = 10\n",
    "x_init = np.array([-2, -1.3, 2, 3, 2.5])\n",
    "\n",
    "output_notebook()\n",
    "NET_SYS.initial_state = x_init\n",
    "NET_SYS.plot_consensus(sigma=sigma)\n",
    "\n",
    "NET_union_SYS.initial_state = x_init\n",
    "NET_union_SYS.t_final = t_final\n",
    "NET_union_SYS.plot_consensus()\n"
   ],
   "metadata": {
    "collapsed": false,
    "pycharm": {
     "name": "#%%\n"
    }
   }
  },
  {
   "cell_type": "markdown",
   "source": [],
   "metadata": {
    "collapsed": false,
    "pycharm": {
     "name": "#%% md\n"
    }
   }
  }
 ],
 "metadata": {
  "kernelspec": {
   "display_name": "Python 3",
   "language": "python",
   "name": "python3"
  },
  "language_info": {
   "codemirror_mode": {
    "name": "ipython",
    "version": 2
   },
   "file_extension": ".py",
   "mimetype": "text/x-python",
   "name": "python",
   "nbconvert_exporter": "python",
   "pygments_lexer": "ipython2",
   "version": "2.7.6"
  }
 },
 "nbformat": 4,
 "nbformat_minor": 0
}