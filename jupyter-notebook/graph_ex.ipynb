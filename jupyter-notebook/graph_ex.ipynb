{
 "cells": [
  {
   "cell_type": "markdown",
   "metadata": {
    "pycharm": {
     "name": "#%% md\n"
    }
   },
   "source": [
    "# Graphs\n",
    "This file illustrates how to define and analyze graphs using cdcps."
   ]
  },
  {
   "cell_type": "code",
   "execution_count": null,
   "outputs": [],
   "source": [
    "# libraries for plotting things -----------------------\n",
    "import sys  \n",
    "sys.path.insert(0, '..')\n",
    "from bokeh.plotting import figure, output_file, show\n",
    "from bokeh.io import output_notebook\n",
    "\n",
    "import numpy as np\n",
    "import cdcps as cps"
   ],
   "metadata": {
    "collapsed": false,
    "pycharm": {
     "name": "#%%\n"
    }
   }
  },
  {
   "cell_type": "markdown",
   "source": [
    "#### (1) Defining Graphs by a list of edges\n",
    "First, we define a graph by its edges. The Graph class also provides methods for drawing a graph.\n",
    "Following options are implemented: 'spring', 'random', 'circular'"
   ],
   "metadata": {
    "collapsed": false,
    "pycharm": {
     "name": "#%% md\n"
    }
   }
  },
  {
   "cell_type": "code",
   "execution_count": null,
   "outputs": [],
   "source": [
    "E = [(1, 2, 1.0),\n",
    "     (2, 1, 1.0),\n",
    "     (1, 3, 1.0),\n",
    "     (3, 1, 1.0),\n",
    "     (2, 4, 1.0),\n",
    "     (4, 2, 1.0),\n",
    "     (2, 5, 1.0),\n",
    "     (5, 2, 1.0),\n",
    "     (3, 2, 1.0),\n",
    "     (2, 3, 1.0),\n",
    "     (4, 1, 1.0),\n",
    "     (1, 4, 1.0),\n",
    "     (5, 4, 1.0),\n",
    "     (4, 5, 1.0)\n",
    "     ]\n",
    "G1 = cps.Graph.get_graph_from_edges(E)\n",
    "G1.show_graph_data()\n",
    "G1.plot_graph(\"spring\")"
   ],
   "metadata": {
    "collapsed": false,
    "pycharm": {
     "name": "#%%\n"
    }
   }
  },
  {
   "cell_type": "code",
   "execution_count": null,
   "outputs": [],
   "source": [
    "E = [(1, 2, 0.4),\n",
    "      (1, 3, 0.4),\n",
    "      (2, 4, 0.5),\n",
    "      (2, 5, 0.3),\n",
    "      (3, 2, 0.4),\n",
    "      (4, 1, 0.8),\n",
    "      (5, 4, 0.3)\n",
    "      ]\n",
    "G2 = cps.Graph.get_graph_from_edges(E)\n",
    "print('Analyzing graph ', G2, ' results:')\n",
    "G2.show_graph_data()\n",
    "#G2.plot_graph(\"spring\")"
   ],
   "metadata": {
    "collapsed": false,
    "pycharm": {
     "name": "#%%\n"
    }
   }
  },
  {
   "cell_type": "markdown",
   "source": [
    "#### (2) Defining a directed graph -- by an adjacency matrix\n",
    "It is often easier to define a graph by an adjacency matrix. The following examples illustrate how this works."
   ],
   "metadata": {
    "collapsed": false,
    "pycharm": {
     "name": "#%% md\n"
    }
   }
  },
  {
   "cell_type": "code",
   "execution_count": null,
   "outputs": [],
   "source": [
    "A = np.array([[0.0, 0.0, 0.0, 0.0, 1.0, 0.0],\n",
    "              [1.0, 0.0, 0.0, 0.0, 0.0, 0.0],\n",
    "              [0.0, 1.0, 0.0, 1.0, 0.0, 0.0],\n",
    "              [0.0, 0.0, 1.0, 0.0, 0.0, 0.0],\n",
    "              [0.0, 1.0, 0.0, 0.0, 0.0, 0.0],\n",
    "              [0.0, 1.0, 0.0, 0.0, 0.0, 0.0]\n",
    "              ])\n",
    "G3 = cps.Graph.get_graph_from_adjacency(A)\n",
    "print('Analyzing graph ', G3, ' results:')\n",
    "G3.plot_graph('circular')"
   ],
   "metadata": {
    "collapsed": false,
    "pycharm": {
     "name": "#%%\n"
    }
   }
  },
  {
   "cell_type": "markdown",
   "source": [
    "The following graph is characterized by a series connection:"
   ],
   "metadata": {
    "collapsed": false,
    "pycharm": {
     "name": "#%% md\n"
    }
   }
  },
  {
   "cell_type": "code",
   "execution_count": null,
   "outputs": [],
   "source": [
    "A = np.array([[0.0, 0.0, 0.0, 0.0, 0.0],\n",
    "              [1.0, 0.0, 0.0, 0.0, 0.0],\n",
    "              [0.0, 1.0, 0.0, 0.0, 0.0],\n",
    "              [0.0, 0.0, 1.0, 0.0, 0.0],\n",
    "              [0.0, 0.0, 0.0, 1.0, 0.0]\n",
    "            ])\n",
    "G4 = cps.Graph.get_graph_from_adjacency(A)\n",
    "G4.plot_graph('circular')"
   ],
   "metadata": {
    "collapsed": false,
    "pycharm": {
     "name": "#%%\n"
    }
   }
  },
  {
   "cell_type": "markdown",
   "source": [
    "The following graph is characterized by a ring connection:"
   ],
   "metadata": {
    "collapsed": false,
    "pycharm": {
     "name": "#%% md\n"
    }
   }
  },
  {
   "cell_type": "code",
   "execution_count": null,
   "outputs": [],
   "source": [
    "A = np.array([[0.0, 0.0, 0.0, 0.0, 1.0],\n",
    "              [1.0, 0.0, 0.0, 0.0, 0.0],\n",
    "              [0.0, 1.0, 0.0, 0.0, 0.0],\n",
    "              [0.0, 0.0, 1.0, 0.0, 0.0],\n",
    "              [0.0, 0.0, 0.0, 1.0, 0.0]\n",
    "            ])\n",
    "G5 = cps.Graph.get_graph_from_adjacency(A)\n",
    "# G5.show_graph_data()\n",
    "G5.plot_graph(\"circular\")\n",
    "print('Is there a path between the nodes: ', G5.is_path(initial_node=5, final_node=3))\n",
    "print('Is the graph A Laplacian :', cps.Graph.is_Laplacian(A))"
   ],
   "metadata": {
    "collapsed": false,
    "pycharm": {
     "name": "#%%\n"
    }
   }
  },
  {
   "cell_type": "markdown",
   "source": [
    "#### (3) Defining a directed graph -- by a Laplacian matrix\n",
    "Finally, we also show how we can use a Laplacian matrix to completely define a graph. Here we use the equation $L=D-A$ to obtain the graph."
   ],
   "metadata": {
    "collapsed": false,
    "pycharm": {
     "name": "#%% md\n"
    }
   }
  },
  {
   "cell_type": "code",
   "execution_count": null,
   "outputs": [],
   "source": [
    "L = np.array([[0.0, 0.0, 0.0, 0.0, 0.0],\n",
    "              [-1.0, 1.0, 0.0, 0.0, 0.0],\n",
    "              [0.0, -1.0, 1.0, 0.0, 0.0],\n",
    "              [0.0, 0.0, -1.0, 1.0, 0.0],\n",
    "              [0.0, 0.0, 0.0, -1.0, 1.0],\n",
    "              ])\n",
    "G3 = cps.Graph.get_graph_from_Laplacian(L)\n",
    "print('Analyzing graph ', G3, ' results:')\n",
    "G3.show_graph_data()\n",
    "print('Is the graph L Laplacian :', cps.Graph.is_Laplacian(L))"
   ],
   "metadata": {
    "collapsed": false,
    "pycharm": {
     "name": "#%%\n"
    }
   }
  },
  {
   "cell_type": "code",
   "execution_count": null,
   "outputs": [],
   "source": [],
   "metadata": {
    "collapsed": false,
    "pycharm": {
     "name": "#%%\n"
    }
   }
  },
  {
   "cell_type": "code",
   "execution_count": null,
   "metadata": {
    "pycharm": {
     "name": "#%%\n"
    }
   },
   "outputs": [],
   "source": []
  }
 ],
 "metadata": {
  "kernelspec": {
   "display_name": "Python 3 (ipykernel)",
   "language": "python",
   "name": "python3"
  },
  "language_info": {
   "codemirror_mode": {
    "name": "ipython",
    "version": 3
   },
   "file_extension": ".py",
   "mimetype": "text/x-python",
   "name": "python",
   "nbconvert_exporter": "python",
   "pygments_lexer": "ipython3",
   "version": "3.8.13"
  }
 },
 "nbformat": 4,
 "nbformat_minor": 1
}